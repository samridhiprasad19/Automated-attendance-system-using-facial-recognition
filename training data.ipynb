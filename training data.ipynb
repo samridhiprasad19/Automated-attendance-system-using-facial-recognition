{
 "cells": [
  {
   "cell_type": "code",
   "execution_count": 1,
   "metadata": {},
   "outputs": [],
   "source": [
    "import cv2\n",
    "import os \n",
    "import numpy as np\n",
    "import glob\n"
   ]
  },
  {
   "cell_type": "code",
   "execution_count": 2,
   "metadata": {},
   "outputs": [],
   "source": [
    "subjects = [\" \",\"Samridhi Prasad\",\"Raksha Maheshwari\",\"Sakshi Gupta\"]"
   ]
  },
  {
   "cell_type": "code",
   "execution_count": 3,
   "metadata": {},
   "outputs": [],
   "source": [
    "#function to dectect faces\n",
    "def face_detect(image):\n",
    "    cascPath = \"haarcascade_frontalface_default.xml\"\n",
    "    faceCascade = cv2.CascadeClassifier(cascPath)\n",
    "    gray = cv2.cvtColor(image, cv2.COLOR_BGR2GRAY)\n",
    "    faces = faceCascade.detectMultiScale(\n",
    "        gray,\n",
    "        scaleFactor=1.2,\n",
    "        minNeighbors=5,\n",
    "        minSize=(30, 30)\n",
    "    );\n",
    "    if len(faces)== None:\n",
    "        return None,None\n",
    "\n",
    "    (x, y, w, h)=faces[0]\n",
    "    return gray[y:y+w,x:x+h],faces\n",
    "    \n",
    "    \n"
   ]
  },
  {
   "cell_type": "code",
   "execution_count": 4,
   "metadata": {},
   "outputs": [],
   "source": [
    "#function to prepare training data\n",
    "def prepare_training_data(data_folder_path):\n",
    "    #get the directories\n",
    "    dirs=os.listdir(data_folder_path)\n",
    "    #list to hold all faces\n",
    "    faces=[]\n",
    "    #list to hold all labels\n",
    "    labels=[]\n",
    "    print(dirs)\n",
    "    #lets check each directory\n",
    "    for dir_name in dirs:\n",
    "        #since our directory name start with s ignore any irrelevant directory\n",
    "        if not dir_name.startswith(\"s\"):\n",
    "            continue\n",
    "        #extract the label number from dir_name\n",
    "        label = int(dir_name.replace(\"s\",\"  \"))\n",
    "        #build the path for the images of current directory\n",
    "        subject_dir_path = data_folder_path+\"/\"+dir_name\n",
    "        print(subject_dir_path)\n",
    "        #get the image name inside the directory path\n",
    "        subject_image_name=os.listdir(subject_dir_path)\n",
    "        #go through each image name read image\n",
    "        for image_name in subject_image_name:\n",
    "            #ignore .ds file\n",
    "            if image_name.startswith(\".\"):\n",
    "                continue\n",
    "            #build image path\n",
    "            image_path = subject_dir_path+\"/\"+image_name\n",
    "            #read image\n",
    "            image = cv2.imread(image_path)\n",
    "            #display the image\n",
    "            cv2.imshow(\"Training image ...\",image)\n",
    "            cv2.waitKey(100)\n",
    "            #detect face\n",
    "            face,rect=face_detect(image)\n",
    "            if face is not None:\n",
    "                #add face to the list of face\n",
    "                faces.append(face)\n",
    "                #add label to list of label\n",
    "                labels.append(label)\n",
    "    cv2.destroyAllWindows()\n",
    "    cv2.waitKey(1)\n",
    "    cv2.destroyAllWindows()\n",
    "    return faces,labels\n",
    "    "
   ]
  },
  {
   "cell_type": "code",
   "execution_count": 5,
   "metadata": {},
   "outputs": [
    {
     "name": "stdout",
     "output_type": "stream",
     "text": [
      "Preparing data...\n",
      "['s1', 's2', 's3']\n",
      "C:/Users/Samridhi Prasad/Documents/training_data/s1\n",
      "C:/Users/Samridhi Prasad/Documents/training_data/s2\n",
      "C:/Users/Samridhi Prasad/Documents/training_data/s3\n",
      "Data prepared\n",
      "Total faces:  32\n",
      "Total labels:  32\n"
     ]
    }
   ],
   "source": [
    "#let's first prepare our training data\n",
    "#data will be in two lists of same size\n",
    "#one list will contain all the faces\n",
    "#and the other list will contain respective labels for each face\n",
    "print(\"Preparing data...\")\n",
    "faces, labels = prepare_training_data(\"C:/Users/Samridhi Prasad/Documents/training_data\")\n",
    "print(\"Data prepared\")\n",
    "\n",
    "#print total faces and labels\n",
    "print(\"Total faces: \", len(faces))\n",
    "print(\"Total labels: \", len(labels))\n"
   ]
  },
  {
   "cell_type": "code",
   "execution_count": 6,
   "metadata": {},
   "outputs": [],
   "source": [
    "#train face recogniser\n",
    "face_recognizer = cv2.face.LBPHFaceRecognizer_create()\n",
    "#train our face recognizer of our training faces\n",
    "face_recognizer.train(faces, np.array(labels))\n",
    "\n"
   ]
  },
  {
   "cell_type": "code",
   "execution_count": 7,
   "metadata": {},
   "outputs": [],
   "source": [
    "#this function recognizes the person in image passed\n",
    "#and draws a rectangle around detected face with name of the \n",
    "#subject\n",
    "def predict(test_img):\n",
    "#make a copy of the image as we don't want to change original image\n",
    "    img = test_img.copy()\n",
    "#detect face from the image\n",
    "    face,rect = face_detect(img)\n",
    "    if face is not None:\n",
    "        #predict the image using our face recognizer \n",
    "        label = face_recognizer.predict(face)\n",
    "        print(label)\n",
    "        if int(label[1])>=70:\n",
    "            #get name of respective label returned by face recognizer \n",
    "            label_text = subjects[label[0]]\n",
    "        else:\n",
    "            label_text=input(\"Please Enter Your Name:\")\n",
    "        return label_text\n",
    "    else:\n",
    "        return \"No face Detected\"\n"
   ]
  },
  {
   "cell_type": "code",
   "execution_count": 8,
   "metadata": {},
   "outputs": [
    {
     "name": "stdout",
     "output_type": "stream",
     "text": [
      "Predicting images...\n",
      "<class 'list'>\n",
      "C:\\Users\\Samridhi Prasad\\Documents\\project\\saveimage\\file_0.jpg\n"
     ]
    },
    {
     "ename": "IndexError",
     "evalue": "tuple index out of range",
     "output_type": "error",
     "traceback": [
      "\u001b[1;31m---------------------------------------------------------------------------\u001b[0m",
      "\u001b[1;31mIndexError\u001b[0m                                Traceback (most recent call last)",
      "\u001b[1;32m<ipython-input-8-a23c28279fcc>\u001b[0m in \u001b[0;36m<module>\u001b[1;34m\u001b[0m\n\u001b[0;32m      8\u001b[0m     \u001b[0mcv2\u001b[0m\u001b[1;33m.\u001b[0m\u001b[0mimshow\u001b[0m\u001b[1;33m(\u001b[0m\u001b[1;34m'Image'\u001b[0m\u001b[1;33m,\u001b[0m\u001b[0mtemp\u001b[0m\u001b[1;33m)\u001b[0m\u001b[1;33m\u001b[0m\u001b[1;33m\u001b[0m\u001b[0m\n\u001b[0;32m      9\u001b[0m     \u001b[0mcv2\u001b[0m\u001b[1;33m.\u001b[0m\u001b[0mwaitKey\u001b[0m\u001b[1;33m(\u001b[0m\u001b[1;36m100\u001b[0m\u001b[1;33m)\u001b[0m\u001b[1;33m\u001b[0m\u001b[1;33m\u001b[0m\u001b[0m\n\u001b[1;32m---> 10\u001b[1;33m     \u001b[0mpredict_img\u001b[0m\u001b[1;33m=\u001b[0m\u001b[0mpredict\u001b[0m\u001b[1;33m(\u001b[0m\u001b[0mtemp\u001b[0m\u001b[1;33m)\u001b[0m\u001b[1;33m\u001b[0m\u001b[1;33m\u001b[0m\u001b[0m\n\u001b[0m\u001b[0;32m     11\u001b[0m     \u001b[1;32mif\u001b[0m \u001b[0mpredict_img\u001b[0m \u001b[1;32mnot\u001b[0m \u001b[1;32min\u001b[0m \u001b[0mattendance\u001b[0m\u001b[1;33m:\u001b[0m\u001b[1;33m\u001b[0m\u001b[1;33m\u001b[0m\u001b[0m\n\u001b[0;32m     12\u001b[0m         \u001b[0mattendance\u001b[0m\u001b[1;33m.\u001b[0m\u001b[0mappend\u001b[0m\u001b[1;33m(\u001b[0m\u001b[0mpredict_img\u001b[0m\u001b[1;33m)\u001b[0m\u001b[1;33m\u001b[0m\u001b[1;33m\u001b[0m\u001b[0m\n",
      "\u001b[1;32m<ipython-input-7-5b241f9de590>\u001b[0m in \u001b[0;36mpredict\u001b[1;34m(test_img)\u001b[0m\n\u001b[0;32m      6\u001b[0m     \u001b[0mimg\u001b[0m \u001b[1;33m=\u001b[0m \u001b[0mtest_img\u001b[0m\u001b[1;33m.\u001b[0m\u001b[0mcopy\u001b[0m\u001b[1;33m(\u001b[0m\u001b[1;33m)\u001b[0m\u001b[1;33m\u001b[0m\u001b[1;33m\u001b[0m\u001b[0m\n\u001b[0;32m      7\u001b[0m \u001b[1;31m#detect face from the image\u001b[0m\u001b[1;33m\u001b[0m\u001b[1;33m\u001b[0m\u001b[1;33m\u001b[0m\u001b[0m\n\u001b[1;32m----> 8\u001b[1;33m     \u001b[0mface\u001b[0m\u001b[1;33m,\u001b[0m\u001b[0mrect\u001b[0m \u001b[1;33m=\u001b[0m \u001b[0mface_detect\u001b[0m\u001b[1;33m(\u001b[0m\u001b[0mimg\u001b[0m\u001b[1;33m)\u001b[0m\u001b[1;33m\u001b[0m\u001b[1;33m\u001b[0m\u001b[0m\n\u001b[0m\u001b[0;32m      9\u001b[0m     \u001b[1;32mif\u001b[0m \u001b[0mface\u001b[0m \u001b[1;32mis\u001b[0m \u001b[1;32mnot\u001b[0m \u001b[1;32mNone\u001b[0m\u001b[1;33m:\u001b[0m\u001b[1;33m\u001b[0m\u001b[1;33m\u001b[0m\u001b[0m\n\u001b[0;32m     10\u001b[0m         \u001b[1;31m#predict the image using our face recognizer\u001b[0m\u001b[1;33m\u001b[0m\u001b[1;33m\u001b[0m\u001b[1;33m\u001b[0m\u001b[0m\n",
      "\u001b[1;32m<ipython-input-3-03365d5d1788>\u001b[0m in \u001b[0;36mface_detect\u001b[1;34m(image)\u001b[0m\n\u001b[0;32m     13\u001b[0m         \u001b[1;32mreturn\u001b[0m \u001b[1;32mNone\u001b[0m\u001b[1;33m,\u001b[0m\u001b[1;32mNone\u001b[0m\u001b[1;33m\u001b[0m\u001b[1;33m\u001b[0m\u001b[0m\n\u001b[0;32m     14\u001b[0m \u001b[1;33m\u001b[0m\u001b[0m\n\u001b[1;32m---> 15\u001b[1;33m     \u001b[1;33m(\u001b[0m\u001b[0mx\u001b[0m\u001b[1;33m,\u001b[0m \u001b[0my\u001b[0m\u001b[1;33m,\u001b[0m \u001b[0mw\u001b[0m\u001b[1;33m,\u001b[0m \u001b[0mh\u001b[0m\u001b[1;33m)\u001b[0m\u001b[1;33m=\u001b[0m\u001b[0mfaces\u001b[0m\u001b[1;33m[\u001b[0m\u001b[1;36m0\u001b[0m\u001b[1;33m]\u001b[0m\u001b[1;33m\u001b[0m\u001b[1;33m\u001b[0m\u001b[0m\n\u001b[0m\u001b[0;32m     16\u001b[0m     \u001b[1;32mreturn\u001b[0m \u001b[0mgray\u001b[0m\u001b[1;33m[\u001b[0m\u001b[0my\u001b[0m\u001b[1;33m:\u001b[0m\u001b[0my\u001b[0m\u001b[1;33m+\u001b[0m\u001b[0mw\u001b[0m\u001b[1;33m,\u001b[0m\u001b[0mx\u001b[0m\u001b[1;33m:\u001b[0m\u001b[0mx\u001b[0m\u001b[1;33m+\u001b[0m\u001b[0mh\u001b[0m\u001b[1;33m]\u001b[0m\u001b[1;33m,\u001b[0m\u001b[0mfaces\u001b[0m\u001b[1;33m\u001b[0m\u001b[1;33m\u001b[0m\u001b[0m\n\u001b[0;32m     17\u001b[0m \u001b[1;33m\u001b[0m\u001b[0m\n",
      "\u001b[1;31mIndexError\u001b[0m: tuple index out of range"
     ]
    }
   ],
   "source": [
    "print(\"Predicting images...\")\n",
    "attendance =[]\n",
    "img_names= glob.glob('C:\\\\Users\\\\Samridhi Prasad\\\\Documents\\\\project\\\\saveimage\\\\*.jpg')\n",
    "print(type(img_names))\n",
    "for i in img_names:\n",
    "    print(i)\n",
    "    temp=cv2.imread(i)\n",
    "    cv2.imshow('Image',temp)\n",
    "    cv2.waitKey(100)\n",
    "    predict_img=predict(temp)\n",
    "    if predict_img not in attendance:\n",
    "        attendance.append(predict_img)\n",
    "print(attendance)\n",
    "print(\"Prediction complete\")\n",
    "cv2.destroyAllWindows()\n",
    "\n"
   ]
  },
  {
   "cell_type": "code",
   "execution_count": null,
   "metadata": {},
   "outputs": [],
   "source": []
  },
  {
   "cell_type": "code",
   "execution_count": null,
   "metadata": {},
   "outputs": [],
   "source": [
    "\n"
   ]
  },
  {
   "cell_type": "code",
   "execution_count": null,
   "metadata": {},
   "outputs": [],
   "source": []
  }
 ],
 "metadata": {
  "kernelspec": {
   "display_name": "Python 3",
   "language": "python",
   "name": "python3"
  },
  "language_info": {
   "codemirror_mode": {
    "name": "ipython",
    "version": 3
   },
   "file_extension": ".py",
   "mimetype": "text/x-python",
   "name": "python",
   "nbconvert_exporter": "python",
   "pygments_lexer": "ipython3",
   "version": "3.7.6"
  }
 },
 "nbformat": 4,
 "nbformat_minor": 2
}
